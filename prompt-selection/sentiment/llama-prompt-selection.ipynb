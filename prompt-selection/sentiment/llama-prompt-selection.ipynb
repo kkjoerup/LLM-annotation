{
 "cells": [
  {
   "cell_type": "code",
   "execution_count": null,
   "metadata": {},
   "outputs": [],
   "source": [
    "import transformers\n",
    "import torch\n",
    "import pandas as pd\n",
    "from huggingface_hub import interpreter_login\n",
    "import re"
   ]
  },
  {
   "cell_type": "code",
   "execution_count": null,
   "metadata": {},
   "outputs": [],
   "source": [
    "# Authenticate with Huggingface token\n",
    "#!git config --global credential.helper store\n",
    "interpreter_login()"
   ]
  },
  {
   "cell_type": "code",
   "execution_count": null,
   "metadata": {},
   "outputs": [],
   "source": [
    "# Load data, 100 samples\n",
    "data = pd.read_csv(\"\", usecols = [\"text\", \"label\"])"
   ]
  },
  {
   "cell_type": "code",
   "execution_count": null,
   "metadata": {},
   "outputs": [],
   "source": [
    "# Define prompts\n",
    "sentiment_v0_prompt = \"\"\"\n",
    "Du er en gennemsnitlig dansk nyhedsforbruger. Du får en overskrift og underoverskrift på en artikel, og skal tildele den en kategori svarende til det sentiment den fremkalder.\n",
    "Kategorier: ”Positiv”, ”Negativ”, ”Neutral”.\n",
    "Giv et præcist svar i json: {{sentiment: ”kategori”}}.\n",
    "\"\"\"\n",
    "sentiment_v1_prompt = \"\"\"\n",
    "Du er en gennemsnitlig dansk nyhedsforbruger. Du får en overskrift og underoverskrift på en artikel, og skal tildele den en kategori svarende til det sentiment den fremkalder.\n",
    "Kategorier: ”Positiv”: Fremkalder en overordnet positiv sentiment. ”Negativ”: Fremkalder en overordnet negativ sentiment. ”Neutral”: Fremkalder hverken en positiv eller negativ sentiment\n",
    "Giv et præcist svar i json: {{sentiment: ”kategori”}}.\n",
    "\"\"\"\n",
    "sentiment_v2_prompt = \"\"\"\n",
    "Du er en gennemsnitlig dansk nyhedsforbruger. Du får en overskrift og underoverskrift på en artikel, og skal tildele den en kategori svarende til det sentiment den fremkalder. Sentiment skal vurderes ud fra en gennemsnitlig dansk nyhedsforbrugers perspektiv, og du skal bruge din viden om det danske samfund og undgå personlige holdninger og bias. Tildel artiklen dens mest dominerende sentiment, vær opmærksom på både explicit og implicit sentiment, og brug din generelle viden om følelsesladede udtryk.\n",
    "Kategorier: ”Positiv”: Fremkalder en overordnet positiv sentiment. Stemninger som optimisme, tilfredshed og selvsikkerhed betragtes som positive. ”Negativ”: Fremkalder en overordnet negativ sentiment. Stemninger som vrede, skuffelse og tristhed betragtes som negative. ”Neutral”: Fremkalder hverken en positiv eller negativ sentiment. Enten ingen sentiment eller tvetydig sentiment.\n",
    "Giv et præcist svar i json: {{sentiment: ”kategori”}}.\n",
    "\"\"\"\n",
    "sentiment_v3_prompt = \"\"\"\n",
    "Du er en gennemsnitlig dansk nyhedsforbruger. Du får en overskrift og underoverskrift på en artikel, og skal tildele den en kategori svarende til det sentiment den fremkalder. \n",
    "Her er nogle generelle principper, du skal følge:\n",
    "Du skal bruge din viden om det danske samfund og annotere artiklen som du forestiller dig, at den gennemsnitlige dansker ville gøre det.\n",
    "Undgå at lade dig påvirke af personlige holdninger og bias. Nogle artikler udtrykker holdninger som du måske er uenig med, men det må ikke påvirke vurderingen af artiklens sentiment.\n",
    "Du skal tildele artiklen dens mest dominerende sentiment, hvis den vurderes at indeholde flere sentiments.\n",
    "Der findes både explicit og implicit sentiment. Explicit sentiment afspejler ofte nogens indre tilstand (f.eks. tro, holdninger, tanker, følelser osv.). Implicit sentiment afspejler derimod ofte en kendsgerning, der fører til et positivt eller negativt sentiment omkring et emne (f.eks. en person eller begivenhed). Artikler fremkalder ofte implicit sentiment ved at fremhæve gode eller dårlige begivenheder. F.eks. er begivenheder som fødsler, at blive gift eller forfremmet gode begivenheder, mens f.eks. død og sygdom er dårlige begivenheder.\n",
    "Du skal bruge din generelle viden om følelsesladede udtryk på dansk. Vær opmærksom på, at sentiment kan forekomme ved ord, der normalt ikke betragtes som følelsesladede, f.eks. familie, løn og ansættelse. Nogle begivenheder er også forbundet med sentiment, f.eks. 1. verdenskrig eller Covid-19.\n",
    "Kategorier: ”Positiv”: Fremkalder en overordnet positiv sentiment. Stemninger som optimisme, tilfredshed og selvsikkerhed betragtes som positive. ”Negativ”: Fremkalder en overordnet negativ sentiment. Stemninger som vrede, skuffelse og tristhed betragtes som negative. ”Neutral”: Fremkalder hverken en positiv eller negativ sentiment. Enten ingen sentiment eller tvetydig sentiment. \n",
    "Giv et præcist svar i json: {{sentiment: ”kategori”}}.\n",
    "\"\"\""
   ]
  },
  {
   "cell_type": "code",
   "execution_count": null,
   "metadata": {},
   "outputs": [],
   "source": [
    "# Load model pipeline\n",
    "model_id = \"meta-llama/Meta-Llama-3.1-8B-Instruct\" \n",
    "\n",
    "pipeline = transformers.pipeline(\n",
    "    \"text-generation\",\n",
    "    model=model_id,\n",
    "    model_kwargs={\"torch_dtype\": torch.bfloat16},\n",
    "    device_map=\"auto\"\n",
    ")"
   ]
  },
  {
   "cell_type": "code",
   "execution_count": null,
   "metadata": {},
   "outputs": [],
   "source": [
    "# Function to run Llama with zero-shot prompts\n",
    "def zeroshot_sentiment_annotation(text, prompt):\n",
    "    messages = [\n",
    "    {\"role\": \"system\", \"content\": f\"{prompt}\"},\n",
    "    {\"role\": \"user\", \"content\": f\"Artikel: {text}. Artiklen fremkalder dette sentiment: \"},\n",
    "    ]\n",
    "    \n",
    "    outputs = pipeline(\n",
    "        messages,\n",
    "        max_new_tokens=256,\n",
    "    )\n",
    "    \n",
    "    # Return the generated content\n",
    "    return outputs[0][\"generated_text\"][-1][\"content\"]"
   ]
  },
  {
   "cell_type": "code",
   "execution_count": null,
   "metadata": {},
   "outputs": [],
   "source": [
    "# Function to run Llama with few-shot prompts\n",
    "def fewshot_sentiment_annotation(text, prompt, fewshot_dataset):\n",
    "    # Sample few-shot examples from dataset without current article\n",
    "    fewshot_dataset = fewshot_dataset[fewshot_dataset[\"text\"] != text]\n",
    "    fewshot_examples = fewshot_dataset.sample(3).to_dict(orient=\"records\")\n",
    "    # Create few-shot part of prompt\n",
    "    fewshot_examples = \"\\n\".join([f\"Artikel: {example[\"text\"]}. Artiklen fremkalder dette sentiment: {example[\"label\"]}.\" for example in fewshot_examples])\n",
    "    \n",
    "    messages = [\n",
    "    {\"role\": \"system\", \"content\": f\"{prompt}. Her er tre eksempler på artikler og deres sentiment: {fewshot_examples}\"},\n",
    "    {\"role\": \"user\", \"content\": f\"Artikel: {text}. Artiklen fremkalder dette sentiment: \"},\n",
    "    ]\n",
    "\n",
    "    outputs = pipeline(\n",
    "        messages,\n",
    "        max_new_tokens=256,\n",
    "    )\n",
    "    \n",
    "    # Return the generated content\n",
    "    return outputs[0][\"generated_text\"][-1][\"content\"]"
   ]
  },
  {
   "cell_type": "code",
   "execution_count": null,
   "metadata": {},
   "outputs": [
    {
     "ename": "",
     "evalue": "",
     "output_type": "error",
     "traceback": [
      "\u001b[1;31mRunning cells with '3.11.1 (Python 3.11.1)' requires the ipykernel package.\n",
      "\u001b[1;31mRun the following command to install 'ipykernel' into the Python environment. \n",
      "\u001b[1;31mCommand: '/Users/katrine.k.jensen/.pyenv/versions/3.11.1/bin/python -m pip install ipykernel -U --force-reinstall'"
     ]
    }
   ],
   "source": [
    "# Apply the function to each element in the 'text' column\n",
    "# Zero-shot annotation\n",
    "data[\"v0-zeroshot-annotation\"] = data[\"text\"].apply(lambda text: zeroshot_sentiment_annotation(text, prompt=sentiment_v0_prompt))\n",
    "data[\"v1-zeroshot-annotation\"] = data[\"text\"].apply(lambda text: zeroshot_sentiment_annotation(text, prompt=sentiment_v1_prompt))\n",
    "data[\"v2-zeroshot-annotation\"] = data[\"text\"].apply(lambda text: zeroshot_sentiment_annotation(text, prompt=sentiment_v2_prompt))\n",
    "data[\"v3-zeroshot-annotation\"] = data[\"text\"].apply(lambda text: zeroshot_sentiment_annotation(text, prompt=sentiment_v3_prompt))\n",
    "\n",
    "# Few-shot annotation\n",
    "data[\"v0-fewshot-annotation\"] = data[\"text\"].apply(lambda text: fewshot_sentiment_annotation(text, prompt=sentiment_v0_prompt, fewshot_dataset=data))\n",
    "data[\"v1-fewshot-annotation\"] = data[\"text\"].apply(lambda text: fewshot_sentiment_annotation(text, prompt=sentiment_v1_prompt, fewshot_dataset=data))\n",
    "data[\"v2-fewshot-annotation\"] = data[\"text\"].apply(lambda text: fewshot_sentiment_annotation(text, prompt=sentiment_v2_prompt, fewshot_dataset=data))\n",
    "data[\"v3-fewshot-annotation\"] = data[\"text\"].apply(lambda text: fewshot_sentiment_annotation(text, prompt=sentiment_v3_prompt, fewshot_dataset=data))"
   ]
  },
  {
   "cell_type": "code",
   "execution_count": null,
   "metadata": {},
   "outputs": [],
   "source": [
    "# save final df to csv\n",
    "data.to_csv(\"\")"
   ]
  }
 ],
 "metadata": {
  "kernelspec": {
   "display_name": "3.11.1",
   "language": "python",
   "name": "python3"
  },
  "language_info": {
   "name": "python",
   "version": "3.11.1"
  }
 },
 "nbformat": 4,
 "nbformat_minor": 2
}
